{
 "cells": [
  {
   "cell_type": "code",
   "execution_count": 1,
   "metadata": {
    "ExecuteTime": {
     "end_time": "2021-04-02T15:58:18.556991Z",
     "start_time": "2021-04-02T15:58:17.814099Z"
    }
   },
   "outputs": [],
   "source": [
    "import sys\n",
    "import redis as r\n",
    "import pandas as pd\n",
    "import pandasql as ps\n",
    "from datetime import datetime\n",
    "import time\n",
    "import tqdm\n",
    "import os\n",
    "import pathlib\n",
    "import shutil\n",
    "import gzip\n",
    "import seaborn as sns"
   ]
  },
  {
   "cell_type": "code",
   "execution_count": 2,
   "metadata": {
    "ExecuteTime": {
     "end_time": "2021-04-02T15:58:21.075195Z",
     "start_time": "2021-04-02T15:58:18.558902Z"
    }
   },
   "outputs": [
    {
     "name": "stderr",
     "output_type": "stream",
     "text": [
      "100%|██████████| 5/5 [00:02<00:00,  1.99it/s]\n"
     ]
    }
   ],
   "source": [
    "# test\n",
    "for i in tqdm.tqdm(range(5)):\n",
    "    time.sleep(0.5)"
   ]
  },
  {
   "cell_type": "code",
   "execution_count": 44,
   "metadata": {
    "ExecuteTime": {
     "end_time": "2021-04-02T16:35:47.957783Z",
     "start_time": "2021-04-02T16:35:47.954582Z"
    }
   },
   "outputs": [],
   "source": [
    "mode=\"prod\" # test, prod\n",
    "dbname=\"janus11-staging\"\n",
    "hostname=\"redis-10111.snc1.raas-shared3-staging.grpn\"\n",
    "port=10111\n",
    "db=0\n",
    "scan_buffer_size=500_000\n",
    "dbpath=f'/home/ksatyamurthy/janus/{dbname}'\n",
    "pathlib.Path(dbpath).mkdir(parents=True, exist_ok=True) \n"
   ]
  },
  {
   "cell_type": "code",
   "execution_count": 4,
   "metadata": {
    "ExecuteTime": {
     "end_time": "2021-04-02T15:58:21.083857Z",
     "start_time": "2021-04-02T15:58:21.081604Z"
    }
   },
   "outputs": [],
   "source": [
    "def t(input):\n",
    "    print(input + \" \" + datetime.now().strftime(\"%Y-%m-%d %H:%M:%S\"))\n"
   ]
  },
  {
   "cell_type": "code",
   "execution_count": 5,
   "metadata": {
    "ExecuteTime": {
     "end_time": "2021-04-02T15:58:21.089463Z",
     "start_time": "2021-04-02T15:58:21.085149Z"
    }
   },
   "outputs": [],
   "source": [
    "def gzip_file(in_file):\n",
    "    in_data = open(in_file, \"rb\").read()\n",
    "    out_gz = in_file + \".gz\"\n",
    "    gzf = gzip.open(out_gz, \"wb\")\n",
    "    gzf.write(in_data)\n",
    "    gzf.close()\n",
    "    os.unlink(in_file)\n",
    "    \n",
    "def guzip_file(in_file):\n",
    "    with gzip.open(in_file + 'gzip', 'rb') as f_in:\n",
    "        with open(in_file.replace('.gz',''), 'wb') as f_out:\n",
    "            shutil.copyfileobj(f_in, f_out)\n",
    "            os.unlink(in_file)"
   ]
  },
  {
   "cell_type": "code",
   "execution_count": 6,
   "metadata": {
    "ExecuteTime": {
     "end_time": "2021-04-02T15:58:21.098281Z",
     "start_time": "2021-04-02T15:58:21.090788Z"
    }
   },
   "outputs": [],
   "source": [
    "def scan_keys(hostname,portno,db,scancount):\n",
    "    keys_names=[]\n",
    "    keys_ttls=[]\n",
    "    keys_idletime=[]\n",
    "    rc=r.Redis(host=hostname,port=portno,db=db)\n",
    "    print(\"Connected to redis\")\n",
    "    total_no_of_keys=rc.info()['db0']['keys']\n",
    "    tmp=rc.scan(0,count=scancount)\n",
    "    tmp_processed_keys=0\n",
    "    while tmp[0] != 0:\n",
    "        tmp_processed_keys=tmp_processed_keys+len(tmp[1])\n",
    "        vartime=datetime.now().strftime(\"%Y-%m-%d %H:%M:%S\")\n",
    "        tmp_ppercent=f'{100*tmp_processed_keys/total_no_of_keys:.2f}'.rjust(6,' ')\n",
    "        print(f\"  At {vartime} scanned: {tmp_processed_keys:>10} which is {tmp_ppercent}% of keys ({total_no_of_keys})\")\n",
    "        for key in tqdm.tqdm(range(len(tmp[1]))):\n",
    "            keyname=tmp[1][key].decode(\"utf-8\")\n",
    "            keys_names.append(keyname)\n",
    "            keys_ttls.append(rc.ttl(keyname))\n",
    "            keys_idletime.append(rc.object(\"idletime\",keyname))\n",
    "        tmp=rc.scan(tmp[0],count=scancount)\n",
    "    print(\"Scanning completed\")\n",
    "    data_tuples=list(zip(keys_names,keys_ttls,keys_idletime))\n",
    "    keys_info=pd.DataFrame(data_tuples, columns=['name','ttl','idletime'])\n",
    "    return keys_info\n"
   ]
  },
  {
   "cell_type": "code",
   "execution_count": 7,
   "metadata": {
    "ExecuteTime": {
     "end_time": "2021-04-02T15:58:21.107512Z",
     "start_time": "2021-04-02T15:58:21.099909Z"
    }
   },
   "outputs": [],
   "source": [
    "def scankeys_and_apply_expire(hostname,portno,db,keylist,timeseconds):\n",
    "    if(len(keylist)==0):\n",
    "        return None\n",
    "    keys_errorcode=[]\n",
    "    ttl_before=[]\n",
    "    memory_usage_bytes=[]\n",
    "    rc=r.Redis(host=hostname,port=portno,db=db)\n",
    "    for key in tqdm.tqdm(keylist):\n",
    "        ttlvalue=rc.ttl(key)\n",
    "        ttl_before.append(ttlvalue)\n",
    "        memory_usage_bytes.append(rc.memory_usage(key))\n",
    "        if(ttlvalue >= timeseconds):\n",
    "            if(mode == \"prod\"):\n",
    "                errcode=rc.expire(key,timeseconds)\n",
    "            elif(mode == \"test\"):\n",
    "                errcode=1                                                 \n",
    "            keys_errorcode.append(errcode)\n",
    "        elif(ttlvalue == -1):\n",
    "            if(mode == \"prod\"):\n",
    "                errcode=rc.expire(key,timeseconds)\n",
    "            elif(mode == \"test\"):\n",
    "                errcode=0                          \n",
    "            keys_errorcode.append(errcode)\n",
    "        elif(ttlvalue == -2):\n",
    "            keys_errorcode.append(-2)\n",
    "        elif(ttlvalue < timeseconds):\n",
    "            keys_errorcode.append(-3)\n",
    "        else:\n",
    "            keys_errorcode.append(-4)\n",
    "    data_tuples=list(zip(keylist,ttl_before,memory_usage_bytes,keys_errorcode))\n",
    "    keys_info=pd.DataFrame(data_tuples, columns=['name','ttl_before','memory_usage_bytes','expire_status'])\n",
    "    return keys_info\n"
   ]
  },
  {
   "cell_type": "code",
   "execution_count": 18,
   "metadata": {
    "ExecuteTime": {
     "end_time": "2021-04-02T16:26:18.148973Z",
     "start_time": "2021-04-02T16:26:18.142654Z"
    }
   },
   "outputs": [],
   "source": [
    "def scankeys_and_apply_delete(hostname,portno,db,keylist):\n",
    "    keys_errorcode=[]\n",
    "    ttl_before=[]\n",
    "    memory_usage_bytes=[]\n",
    "    if(len(keylist)==0):\n",
    "        data_tuples=list(zip(keylist,ttl_before,memory_usage_bytes,keys_errorcode))\n",
    "        keys_info=pd.DataFrame(data_tuples, columns=['name','ttl_before','memory_usage_bytes','delete_status'])\n",
    "        return keys_info\n",
    "    rc=r.Redis(host=hostname,port=portno,db=db)\n",
    "    for key in tqdm.tqdm(keylist):\n",
    "        ttlvalue=rc.ttl(key)\n",
    "        ttl_before.append(ttlvalue)\n",
    "        memory_usage_bytes.append(rc.memory_usage(key))\n",
    "        if(mode == \"prod\"):\n",
    "            errcode=rc.unlink(key)\n",
    "        elif(mode == \"test\"):\n",
    "            errcode=None\n",
    "        keys_errorcode.append(errcode)\n",
    "    data_tuples=list(zip(keylist,ttl_before,memory_usage_bytes,keys_errorcode))\n",
    "    keys_info=pd.DataFrame(data_tuples, columns=['name','ttl_before','memory_usage_bytes','delete_status'])\n",
    "    return keys_info\n"
   ]
  },
  {
   "cell_type": "code",
   "execution_count": 9,
   "metadata": {
    "ExecuteTime": {
     "end_time": "2021-04-02T16:16:38.942025Z",
     "start_time": "2021-04-02T15:58:22.581723Z"
    }
   },
   "outputs": [
    {
     "name": "stdout",
     "output_type": "stream",
     "text": [
      "Connected to redis\n"
     ]
    },
    {
     "name": "stderr",
     "output_type": "stream",
     "text": [
      "  0%|          | 137/499996 [00:00<06:04, 1369.75it/s]"
     ]
    },
    {
     "name": "stdout",
     "output_type": "stream",
     "text": [
      "  At 2021-04-02 15:58:25 scanned:     499996 which is  25.99% of keys (1924047)\n"
     ]
    },
    {
     "name": "stderr",
     "output_type": "stream",
     "text": [
      "100%|██████████| 499996/499996 [06:11<00:00, 1344.18it/s]\n",
      "  0%|          | 139/450080 [00:00<05:26, 1379.50it/s]"
     ]
    },
    {
     "name": "stdout",
     "output_type": "stream",
     "text": [
      "  At 2021-04-02 16:04:39 scanned:     950076 which is  49.38% of keys (1924047)\n"
     ]
    },
    {
     "name": "stderr",
     "output_type": "stream",
     "text": [
      "100%|██████████| 450080/450080 [05:38<00:00, 1329.32it/s]\n",
      "  0%|          | 133/499502 [00:00<06:16, 1327.67it/s]"
     ]
    },
    {
     "name": "stdout",
     "output_type": "stream",
     "text": [
      "  At 2021-04-02 16:10:20 scanned:    1449578 which is  75.34% of keys (1924047)\n"
     ]
    },
    {
     "name": "stderr",
     "output_type": "stream",
     "text": [
      "100%|██████████| 499502/499502 [06:14<00:00, 1332.19it/s]\n"
     ]
    },
    {
     "name": "stdout",
     "output_type": "stream",
     "text": [
      "Scanning completed\n"
     ]
    }
   ],
   "source": [
    "keynames=scan_keys(hostname,port,db,scan_buffer_size)"
   ]
  },
  {
   "cell_type": "code",
   "execution_count": 10,
   "metadata": {
    "ExecuteTime": {
     "end_time": "2021-04-02T16:17:57.351427Z",
     "start_time": "2021-04-02T16:17:57.346101Z"
    }
   },
   "outputs": [
    {
     "data": {
      "text/plain": [
       "(1449578, 3)"
      ]
     },
     "execution_count": 10,
     "metadata": {},
     "output_type": "execute_result"
    }
   ],
   "source": [
    "keynames.shape"
   ]
  },
  {
   "cell_type": "code",
   "execution_count": 11,
   "metadata": {
    "ExecuteTime": {
     "end_time": "2021-04-02T16:18:22.192289Z",
     "start_time": "2021-04-02T16:18:05.092242Z"
    }
   },
   "outputs": [],
   "source": [
    "keynames.to_csv(f'{dbpath}/keynames.csv',index=False, header=True)\n",
    "gzip_file(f'{dbpath}/keynames.csv')\n",
    "#guzip_file(f'{dbpath}/keynames.csv')\n",
    "#keynames=pd.read_csv(f'{dbpath}/keynames.csv')"
   ]
  },
  {
   "cell_type": "code",
   "execution_count": 45,
   "metadata": {
    "ExecuteTime": {
     "end_time": "2021-04-02T16:36:21.902574Z",
     "start_time": "2021-04-02T16:36:07.958723Z"
    }
   },
   "outputs": [],
   "source": [
    "# Logic 1:  \n",
    "# All standalone sales keys without views can be deleted\n",
    "\n",
    "sales_standalone=ps.sqldf(\"\"\"\n",
    "with k1(name,sale) as (select name, substr(name,0,instr(name,'|sales')) sale from keynames where name like '%sales'),\n",
    "k2(name,view) as (select name, substr(name,0,instr(name,'|views')) view from keynames where name like '%views')\n",
    "\n",
    "select a.name from \n",
    "k1 as a left join k2 as b\n",
    "on a.sale=b.view where b.name is null\n",
    "group by 1\n",
    "\"\"\")"
   ]
  },
  {
   "cell_type": "code",
   "execution_count": 46,
   "metadata": {
    "ExecuteTime": {
     "end_time": "2021-04-02T16:41:56.928088Z",
     "start_time": "2021-04-02T16:39:38.308064Z"
    }
   },
   "outputs": [
    {
     "name": "stderr",
     "output_type": "stream",
     "text": [
      "100%|██████████| 120647/120647 [02:18<00:00, 871.05it/s]\n"
     ]
    }
   ],
   "source": [
    "# 2000 it/s is normal \n",
    "sales_standalone_delete_status=scankeys_and_apply_delete(hostname,port,db,list(sales_standalone['name']))"
   ]
  },
  {
   "cell_type": "code",
   "execution_count": 47,
   "metadata": {
    "ExecuteTime": {
     "end_time": "2021-04-02T16:42:34.379695Z",
     "start_time": "2021-04-02T16:42:34.372286Z"
    }
   },
   "outputs": [
    {
     "data": {
      "text/html": [
       "<div>\n",
       "<style scoped>\n",
       "    .dataframe tbody tr th:only-of-type {\n",
       "        vertical-align: middle;\n",
       "    }\n",
       "\n",
       "    .dataframe tbody tr th {\n",
       "        vertical-align: top;\n",
       "    }\n",
       "\n",
       "    .dataframe thead th {\n",
       "        text-align: right;\n",
       "    }\n",
       "</style>\n",
       "<table border=\"1\" class=\"dataframe\">\n",
       "  <thead>\n",
       "    <tr style=\"text-align: right;\">\n",
       "      <th></th>\n",
       "      <th>name</th>\n",
       "      <th>ttl_before</th>\n",
       "      <th>memory_usage_bytes</th>\n",
       "      <th>delete_status</th>\n",
       "    </tr>\n",
       "  </thead>\n",
       "  <tbody>\n",
       "    <tr>\n",
       "      <th>0</th>\n",
       "      <td>user|00007f4e-1cf6-11eb-999f-0242ac120002|sales</td>\n",
       "      <td>-1</td>\n",
       "      <td>329.0</td>\n",
       "      <td>1</td>\n",
       "    </tr>\n",
       "    <tr>\n",
       "      <th>1</th>\n",
       "      <td>user|00008d90-e687-11ea-8b31-0242ac120002|sales</td>\n",
       "      <td>-1</td>\n",
       "      <td>353.0</td>\n",
       "      <td>1</td>\n",
       "    </tr>\n",
       "    <tr>\n",
       "      <th>2</th>\n",
       "      <td>user|0001889a-25fa-11e2-9703-00259069d5fe|sales</td>\n",
       "      <td>-1</td>\n",
       "      <td>601.0</td>\n",
       "      <td>1</td>\n",
       "    </tr>\n",
       "    <tr>\n",
       "      <th>3</th>\n",
       "      <td>user|0002002e-60e2-11ea-9be7-0242ac120002|sales</td>\n",
       "      <td>-1</td>\n",
       "      <td>348.0</td>\n",
       "      <td>1</td>\n",
       "    </tr>\n",
       "    <tr>\n",
       "      <th>4</th>\n",
       "      <td>user|0002a5ec-3d20-11e9-904a-0242ac110002|sales</td>\n",
       "      <td>30844047</td>\n",
       "      <td>483.0</td>\n",
       "      <td>1</td>\n",
       "    </tr>\n",
       "  </tbody>\n",
       "</table>\n",
       "</div>"
      ],
      "text/plain": [
       "                                              name  ttl_before  \\\n",
       "0  user|00007f4e-1cf6-11eb-999f-0242ac120002|sales          -1   \n",
       "1  user|00008d90-e687-11ea-8b31-0242ac120002|sales          -1   \n",
       "2  user|0001889a-25fa-11e2-9703-00259069d5fe|sales          -1   \n",
       "3  user|0002002e-60e2-11ea-9be7-0242ac120002|sales          -1   \n",
       "4  user|0002a5ec-3d20-11e9-904a-0242ac110002|sales    30844047   \n",
       "\n",
       "   memory_usage_bytes  delete_status  \n",
       "0               329.0              1  \n",
       "1               353.0              1  \n",
       "2               601.0              1  \n",
       "3               348.0              1  \n",
       "4               483.0              1  "
      ]
     },
     "execution_count": 47,
     "metadata": {},
     "output_type": "execute_result"
    }
   ],
   "source": [
    "sales_standalone_delete_status.head()"
   ]
  },
  {
   "cell_type": "code",
   "execution_count": 48,
   "metadata": {
    "ExecuteTime": {
     "end_time": "2021-04-02T16:42:43.955920Z",
     "start_time": "2021-04-02T16:42:40.243601Z"
    }
   },
   "outputs": [
    {
     "data": {
      "image/png": "[encoded data removed]",
      "text/plain": [
       "<Figure size 432x288 with 1 Axes>"
      ]
     },
     "metadata": {
      "needs_background": "light"
     },
     "output_type": "display_data"
    }
   ],
   "source": [
    "#sales_standalone_delete_status.describe()\n",
    "\n",
    "ax = sns.violinplot(x=sales_standalone_delete_status[\"memory_usage_bytes\"])"
   ]
  },
  {
   "cell_type": "code",
   "execution_count": 49,
   "metadata": {
    "ExecuteTime": {
     "end_time": "2021-04-02T16:42:53.627522Z",
     "start_time": "2021-04-02T16:42:52.098738Z"
    }
   },
   "outputs": [],
   "source": [
    "sales_standalone_delete_status.to_csv(f'{dbpath}/sales_standalone_delete_status.csv',index=False, header=True)\n",
    "gzip_file(f'{dbpath}/sales_standalone_delete_status.csv')\n",
    "#guzip_file(f'{dbpath}/sales_standalone_delete_status.csv')\n",
    "#keynames=pd.read_csv(f'{dbpath}/sales_standalone_delete_status.csv')"
   ]
  },
  {
   "cell_type": "code",
   "execution_count": 50,
   "metadata": {
    "ExecuteTime": {
     "end_time": "2021-04-02T16:42:54.906555Z",
     "start_time": "2021-04-02T16:42:54.888869Z"
    }
   },
   "outputs": [
    {
     "name": "stdout",
     "output_type": "stream",
     "text": [
      "119704\n"
     ]
    }
   ],
   "source": [
    "#sales_stan\"dalone_delete_status.head(10)\n",
    "if(mode == \"test\"):\n",
    "    print(sales_standalone_delete_status.query('delete_status not in [@pd.NaT] ')['name'].count())\n",
    "elif(mode == \"prod\"):\n",
    "    print(sales_standalone_delete_status.query('delete_status == 1 ')['name'].count())"
   ]
  },
  {
   "cell_type": "code",
   "execution_count": 51,
   "metadata": {
    "ExecuteTime": {
     "end_time": "2021-04-02T16:42:56.626014Z",
     "start_time": "2021-04-02T16:42:56.614449Z"
    }
   },
   "outputs": [
    {
     "name": "stdout",
     "output_type": "stream",
     "text": [
      "69.61299896240234\n"
     ]
    }
   ],
   "source": [
    "if(mode == \"test\"):\n",
    "    print(sales_standalone_delete_status.query('delete_status not in [@pd.NaT] ')['memory_usage_bytes'].sum()/(1024**2))\n",
    "elif(mode == \"prod\"):\n",
    "    print(sales_standalone_delete_status.query('delete_status == 1 ')['memory_usage_bytes'].sum()/(1024**2))"
   ]
  },
  {
   "cell_type": "code",
   "execution_count": 52,
   "metadata": {
    "ExecuteTime": {
     "end_time": "2021-04-02T16:43:08.843267Z",
     "start_time": "2021-04-02T16:42:59.603613Z"
    }
   },
   "outputs": [
    {
     "name": "stdout",
     "output_type": "stream",
     "text": [
      "Delete sales...\n"
     ]
    }
   ],
   "source": [
    "# Logic 2: \n",
    "\n",
    "rconn=r.Redis(host=hostname,port=port,db=db)\n",
    "sales_unlink=ps.sqldf(\"select replace(name,'views','sales') name from keynames where idletime > 30*24*60*60*1.0 and name like '%views'\")\n",
    "df_join=pd.merge(sales_unlink,keynames,how=\"inner\")\n",
    "print(f\"Delete sales...\")\n",
    "\n"
   ]
  },
  {
   "cell_type": "code",
   "execution_count": 53,
   "metadata": {
    "ExecuteTime": {
     "end_time": "2021-04-02T16:43:10.144621Z",
     "start_time": "2021-04-02T16:43:10.139378Z"
    }
   },
   "outputs": [],
   "source": [
    "delete_status=scankeys_and_apply_delete(hostname,port,db,list(df_join['name']))\n"
   ]
  },
  {
   "cell_type": "code",
   "execution_count": 54,
   "metadata": {
    "ExecuteTime": {
     "end_time": "2021-04-02T16:43:11.937248Z",
     "start_time": "2021-04-02T16:43:11.934070Z"
    }
   },
   "outputs": [],
   "source": [
    "delete_status.to_csv(f'{dbpath}/delete_status.csv',index=False, header=True)\n",
    "gzip_file(f'{dbpath}/delete_status.csv')\n",
    "#guzip_file(f'{dbpath}/delete_status.csv')\n",
    "#keynames=pd.read_csv(f'{dbpath}/delete_status.csv')"
   ]
  },
  {
   "cell_type": "code",
   "execution_count": 55,
   "metadata": {
    "ExecuteTime": {
     "end_time": "2021-04-02T16:43:23.022740Z",
     "start_time": "2021-04-02T16:43:13.944723Z"
    }
   },
   "outputs": [
    {
     "name": "stdout",
     "output_type": "stream",
     "text": [
      "Applying  21 days expire...\n"
     ]
    }
   ],
   "source": [
    "# Logic 3:\n",
    "\n",
    "views_gt30days=ps.sqldf(\"select * from keynames where idletime > 30*24*60*60*1.0 and name like '%views'\")\n",
    "# set expire to 21 days when the views are not access > 1 month\n",
    "print(f\"Applying  21 days expire...\")\n",
    "  # 52 mins ((7466595, 3))\n"
   ]
  },
  {
   "cell_type": "code",
   "execution_count": 56,
   "metadata": {
    "ExecuteTime": {
     "end_time": "2021-04-02T16:45:03.680461Z",
     "start_time": "2021-04-02T16:43:33.483320Z"
    }
   },
   "outputs": [
    {
     "name": "stderr",
     "output_type": "stream",
     "text": [
      "100%|██████████| 84269/84269 [01:30<00:00, 934.98it/s] \n"
     ]
    }
   ],
   "source": [
    "# 2000 it/s is normal else it is slow\n",
    "\n",
    "view_expire_status=scankeys_and_apply_expire(hostname,port,db,list(views_gt30days['name']),21*24*60*60)\n",
    "\n"
   ]
  },
  {
   "cell_type": "code",
   "execution_count": 57,
   "metadata": {
    "ExecuteTime": {
     "end_time": "2021-04-02T16:45:37.912772Z",
     "start_time": "2021-04-02T16:45:37.905171Z"
    }
   },
   "outputs": [
    {
     "data": {
      "text/html": [
       "<div>\n",
       "<style scoped>\n",
       "    .dataframe tbody tr th:only-of-type {\n",
       "        vertical-align: middle;\n",
       "    }\n",
       "\n",
       "    .dataframe tbody tr th {\n",
       "        vertical-align: top;\n",
       "    }\n",
       "\n",
       "    .dataframe thead th {\n",
       "        text-align: right;\n",
       "    }\n",
       "</style>\n",
       "<table border=\"1\" class=\"dataframe\">\n",
       "  <thead>\n",
       "    <tr style=\"text-align: right;\">\n",
       "      <th></th>\n",
       "      <th>name</th>\n",
       "      <th>ttl_before</th>\n",
       "      <th>memory_usage_bytes</th>\n",
       "      <th>expire_status</th>\n",
       "    </tr>\n",
       "  </thead>\n",
       "  <tbody>\n",
       "    <tr>\n",
       "      <th>0</th>\n",
       "      <td>user|d150d354-2412-11e2-86db-00259069d5fe|views</td>\n",
       "      <td>26182357</td>\n",
       "      <td>588.0</td>\n",
       "      <td>True</td>\n",
       "    </tr>\n",
       "    <tr>\n",
       "      <th>1</th>\n",
       "      <td>user|8cbf32c8-1be2-11eb-a2dd-0242ac120002|views</td>\n",
       "      <td>26948577</td>\n",
       "      <td>518.0</td>\n",
       "      <td>True</td>\n",
       "    </tr>\n",
       "    <tr>\n",
       "      <th>2</th>\n",
       "      <td>user|709a9bdc-1a0d-11ea-92dd-0242ac120002|views</td>\n",
       "      <td>27247177</td>\n",
       "      <td>1915.0</td>\n",
       "      <td>True</td>\n",
       "    </tr>\n",
       "    <tr>\n",
       "      <th>3</th>\n",
       "      <td>user|5b6696fe-f977-4dd0-9cf0-75755c0e5883|views</td>\n",
       "      <td>27177217</td>\n",
       "      <td>1133.0</td>\n",
       "      <td>True</td>\n",
       "    </tr>\n",
       "    <tr>\n",
       "      <th>4</th>\n",
       "      <td>user|db83a1ee-238b-11e2-92da-00259069d5fe|views</td>\n",
       "      <td>27086557</td>\n",
       "      <td>736.0</td>\n",
       "      <td>True</td>\n",
       "    </tr>\n",
       "  </tbody>\n",
       "</table>\n",
       "</div>"
      ],
      "text/plain": [
       "                                              name  ttl_before  \\\n",
       "0  user|d150d354-2412-11e2-86db-00259069d5fe|views    26182357   \n",
       "1  user|8cbf32c8-1be2-11eb-a2dd-0242ac120002|views    26948577   \n",
       "2  user|709a9bdc-1a0d-11ea-92dd-0242ac120002|views    27247177   \n",
       "3  user|5b6696fe-f977-4dd0-9cf0-75755c0e5883|views    27177217   \n",
       "4  user|db83a1ee-238b-11e2-92da-00259069d5fe|views    27086557   \n",
       "\n",
       "   memory_usage_bytes expire_status  \n",
       "0               588.0          True  \n",
       "1               518.0          True  \n",
       "2              1915.0          True  \n",
       "3              1133.0          True  \n",
       "4               736.0          True  "
      ]
     },
     "execution_count": 57,
     "metadata": {},
     "output_type": "execute_result"
    }
   ],
   "source": [
    "view_expire_status.head()"
   ]
  },
  {
   "cell_type": "code",
   "execution_count": 58,
   "metadata": {
    "ExecuteTime": {
     "end_time": "2021-04-02T16:45:46.513532Z",
     "start_time": "2021-04-02T16:45:45.557320Z"
    }
   },
   "outputs": [],
   "source": [
    "view_expire_status.to_csv(f'{dbpath}/view_expire_status.csv',index=False, header=True)\n",
    "gzip_file(f'{dbpath}/view_expire_status.csv')\n",
    "#guzip_file(f'{dbpath}/view_expire_status.csv')\n",
    "#keynames=pd.read_csv(f'{dbpath}/view_expire_status.csv')"
   ]
  },
  {
   "cell_type": "code",
   "execution_count": 59,
   "metadata": {
    "ExecuteTime": {
     "end_time": "2021-04-02T16:45:50.567562Z",
     "start_time": "2021-04-02T16:45:48.521405Z"
    }
   },
   "outputs": [
    {
     "data": {
      "image/png": "[encoded data removed]",
      "text/plain": [
       "<Figure size 432x288 with 1 Axes>"
      ]
     },
     "metadata": {
      "needs_background": "light"
     },
     "output_type": "display_data"
    }
   ],
   "source": [
    "ax = sns.violinplot(x=view_expire_status[\"memory_usage_bytes\"])"
   ]
  },
  {
   "cell_type": "code",
   "execution_count": 60,
   "metadata": {
    "ExecuteTime": {
     "end_time": "2021-04-02T16:45:51.881782Z",
     "start_time": "2021-04-02T16:45:51.870636Z"
    }
   },
   "outputs": [
    {
     "data": {
      "text/plain": [
       "True    83108\n",
       "-2       1153\n",
       "-3          8\n",
       "Name: expire_status, dtype: int64"
      ]
     },
     "execution_count": 60,
     "metadata": {},
     "output_type": "execute_result"
    }
   ],
   "source": [
    "view_expire_status['expire_status'].value_counts()"
   ]
  },
  {
   "cell_type": "code",
   "execution_count": 61,
   "metadata": {
    "ExecuteTime": {
     "end_time": "2021-04-02T16:46:00.976381Z",
     "start_time": "2021-04-02T16:46:00.959390Z"
    }
   },
   "outputs": [
    {
     "data": {
      "text/plain": [
       "95.69645595550537"
      ]
     },
     "execution_count": 61,
     "metadata": {},
     "output_type": "execute_result"
    }
   ],
   "source": [
    "view_expire_status.query('expire_status == 1')['memory_usage_bytes'].sum()/(1024**2)"
   ]
  },
  {
   "cell_type": "code",
   "execution_count": 62,
   "metadata": {
    "ExecuteTime": {
     "end_time": "2021-04-02T16:46:12.386642Z",
     "start_time": "2021-04-02T16:46:03.636675Z"
    }
   },
   "outputs": [
    {
     "name": "stdout",
     "output_type": "stream",
     "text": [
      "Applying 365 days expire...\n"
     ]
    }
   ],
   "source": [
    "# Logic 4:\n",
    "sales_remaining=ps.sqldf(\"select * from keynames where name like '%sales'\")\n",
    "print(f\"Applying 365 days expire...\")\n",
    "\n",
    "\n"
   ]
  },
  {
   "cell_type": "code",
   "execution_count": 63,
   "metadata": {
    "ExecuteTime": {
     "end_time": "2021-04-02T16:49:58.080138Z",
     "start_time": "2021-04-02T16:48:31.826492Z"
    }
   },
   "outputs": [
    {
     "name": "stderr",
     "output_type": "stream",
     "text": [
      "100%|██████████| 120647/120647 [01:26<00:00, 1400.26it/s]\n"
     ]
    }
   ],
   "source": [
    "sales_remaining_expire_status=scankeys_and_apply_expire(hostname,port,db,list(sales_remaining['name']),365*24*60*60)"
   ]
  },
  {
   "cell_type": "code",
   "execution_count": 64,
   "metadata": {
    "ExecuteTime": {
     "end_time": "2021-04-02T16:49:59.294428Z",
     "start_time": "2021-04-02T16:49:58.082114Z"
    }
   },
   "outputs": [],
   "source": [
    "sales_remaining_expire_status.to_csv(f'{dbpath}/sales_remaining_expire_status.csv',index=False, header=True)\n",
    "gzip_file(f'{dbpath}/sales_remaining_expire_status.csv')\n",
    "#guzip_file(f'{dbpath}/sales_remaining_expire_status.csv')\n",
    "#keynames=pd.read_csv(f'{dbpath}/sales_remaining_expire_status.csv')"
   ]
  },
  {
   "cell_type": "code",
   "execution_count": 65,
   "metadata": {
    "ExecuteTime": {
     "end_time": "2021-04-02T16:49:59.302384Z",
     "start_time": "2021-04-02T16:49:59.296337Z"
    }
   },
   "outputs": [
    {
     "data": {
      "text/plain": [
       "-2    120626\n",
       "-3        21\n",
       "Name: expire_status, dtype: int64"
      ]
     },
     "execution_count": 65,
     "metadata": {},
     "output_type": "execute_result"
    }
   ],
   "source": [
    "sales_remaining_expire_status['expire_status'].value_counts()\n"
   ]
  },
  {
   "cell_type": "code",
   "execution_count": 74,
   "metadata": {
    "ExecuteTime": {
     "end_time": "2021-04-02T16:58:51.573696Z",
     "start_time": "2021-04-02T16:58:51.565691Z"
    }
   },
   "outputs": [
    {
     "name": "stdout",
     "output_type": "stream",
     "text": [
      "0.0\n"
     ]
    }
   ],
   "source": [
    "if(mode == \"test\"):\n",
    "    print(sales_remaining_expire_status.query('expire_status == 0')['memory_usage_bytes'].sum()/(1024**2))\n",
    "elif(mode == \"prod\"):\n",
    "    print(sales_remaining_expire_status.query('expire_status == 1')['memory_usage_bytes'].sum()/(1024**2))\n",
    "    \n"
   ]
  },
  {
   "cell_type": "code",
   "execution_count": 78,
   "metadata": {
    "ExecuteTime": {
     "end_time": "2021-04-02T17:00:02.293213Z",
     "start_time": "2021-04-02T16:59:56.870093Z"
    }
   },
   "outputs": [],
   "source": [
    "if(mode == \"test\"):\n",
    "    views_new_ttl        =ps.sqldf(' select count(*) cnt from view_expire_status            where (expire_status like \"0%\" or expire_status like \"1%\"  ) ')['cnt'][0]\n",
    "    views_ttl_untouched  =ps.sqldf(' select count(*) cnt from view_expire_status            where expire_status like \"%-3%\"')['cnt'][0]\n",
    "    sales_new_ttl        =ps.sqldf(' select count(*) cnt from sales_remaining_expire_status where (expire_status like \"0%\" or expire_status like \"1%\"  )')['cnt'][0]\n",
    "    sales_ttl_untouched  =ps.sqldf(' select count(*) cnt from sales_remaining_expire_status where expire_status like \"%-3%\"')['cnt'][0]\n",
    "    totalno_keys         =keynames.shape[0]\n",
    "    sales_del_memory_saved=sales_standalone_delete_status.query('delete_status not in [@pd.NaT] ')['memory_usage_bytes'].sum()/(1024**2)\n",
    "    views_new_memory_saved=ps.sqldf(' select sum(memory_usage_bytes)/(1024*1024) size_mb from view_expire_status  where (expire_status like \"0%\" or expire_status like \"1%\"  )')['size_mb'][0]\n",
    "    sales_new_memory_saved=ps.sqldf(' select sum(memory_usage_bytes)/(1024*1024) size_mb from sales_remaining_expire_status  where (expire_status like \"0%\" or expire_status like \"1%\"  )')['size_mb'][0]\n",
    "    db_size=rconn.info()['used_memory']/(1024*1024)\n",
    "    db_size_human=rconn.info ()['used_memory_human']\n",
    "    sales_del=sales_standalone_delete_status.query('delete_status not in [@pd.NaT] ')['name'].count()\n",
    "elif(mode == \"prod\"):\n",
    "    views_new_ttl        =ps.sqldf(' select count(*) cnt from view_expire_status            where expire_status like \"1%\"')['cnt'][0]\n",
    "    views_ttl_untouched  =ps.sqldf(' select count(*) cnt from view_expire_status            where expire_status like \"%-3%\"')['cnt'][0]\n",
    "    sales_new_ttl        =ps.sqldf(' select count(*) cnt from sales_remaining_expire_status where expire_status like \"1%\"')['cnt'][0]\n",
    "    sales_ttl_untouched  =ps.sqldf(' select count(*) cnt from sales_remaining_expire_status where expire_status like \"%-3%\"')['cnt'][0]\n",
    "    totalno_keys         =keynames.shape[0]\n",
    "    sales_del_memory_saved=sales_standalone_delete_status.query('delete_status == 1 ')['memory_usage_bytes'].sum()/(1024**2)\n",
    "    views_new_memory_saved=ps.sqldf(' select sum(memory_usage_bytes)/(1024*1024) size_mb from view_expire_status  where expire_status like \"1%\"')['size_mb'][0]\n",
    "    sales_new_memory_saved=ps.sqldf(' select sum(memory_usage_bytes)/(1024*1024) size_mb from sales_remaining_expire_status  where expire_status like \"1%\"')['size_mb'][0]\n",
    "    db_size=rconn.info()['used_memory']/(1024*1024)\n",
    "    db_size_human=rconn.info ()['used_memory_human']\n",
    "    sales_del=sales_standalone_delete_status.query('delete_status == 1 ')['name'].count()\n",
    "    \n",
    "if(sales_new_memory_saved is None):\n",
    "    sales_new_memory_saved=0"
   ]
  },
  {
   "cell_type": "code",
   "execution_count": 79,
   "metadata": {
    "ExecuteTime": {
     "end_time": "2021-04-02T17:00:02.300754Z",
     "start_time": "2021-04-02T17:00:02.294997Z"
    }
   },
   "outputs": [
    {
     "name": "stdout",
     "output_type": "stream",
     "text": [
      "DB name  : janus11-staging\n",
      "Endpoint : redis-10111.snc1.raas-shared3-staging.grpn\n",
      "Total no of keys: 1449578\n",
      "Sales deleted (logic 1 )  : 119704\n",
      "Sales deleted (logic 2 ) : 0\n",
      "Views new ttl of 21 days  : 83108   Percent:5.73\n",
      "Views untouched has <  21 days ttl  : 8  Percent:0.00\n",
      "Sales new ttl 365 days  : 0  Percent:0.00\n",
      "Sales untouched has < 365 days ttl  : 21  Percent:0.00\n",
      "Memory may be saved in delete sales: 69.61 MB Percent:2.47 \n",
      "Memory may be saved in  21 days: 95.70 MB Percent:3.40 \n",
      "Memory may be saved in 365 days: 0 MB Percent:0.0 \n",
      "Size of DB: 2.74GB \n"
     ]
    }
   ],
   "source": [
    "print(f'DB name  : {dbname}')\n",
    "print(f'Endpoint : {hostname}')\n",
    "print(f'Total no of keys: {totalno_keys}')\n",
    "print(f'Sales deleted (logic 1 )  : {sales_del}')\n",
    "print(f'Sales deleted (logic 2 ) : {df_join.shape[0]}')\n",
    "print(f'Views new ttl of 21 days  : {views_new_ttl}   Percent:{100.0*views_new_ttl/totalno_keys:.2f}')\n",
    "print(f'Views untouched has <  21 days ttl  : {views_ttl_untouched}  Percent:{100.0*views_ttl_untouched/totalno_keys:.2f}')\n",
    "print(f'Sales new ttl 365 days  : {sales_new_ttl}  Percent:{100.0*sales_new_ttl/totalno_keys:.2f}')\n",
    "print(f'Sales untouched has < 365 days ttl  : {sales_ttl_untouched}  Percent:{100.0*sales_ttl_untouched/totalno_keys:.2f}')\n",
    "print(f'Memory may be saved in delete sales: {sales_del_memory_saved:.2f} MB Percent:{100.0*sales_del_memory_saved/db_size:.2f} ')\n",
    "print(f'Memory may be saved in  21 days: {views_new_memory_saved:.2f} MB Percent:{100.0*views_new_memory_saved/db_size:.2f} ')\n",
    "print(f'Memory may be saved in 365 days: {sales_new_memory_saved} MB Percent:{100.0*sales_new_memory_saved/db_size} ')\n",
    "print(f'Size of DB: {db_size_human}B ')\n"
   ]
  }
 ],
 "metadata": {
  "kernelspec": {
   "display_name": "Python 3",
   "language": "python",
   "name": "python3"
  },
  "language_info": {
   "codemirror_mode": {
    "name": "ipython",
    "version": 3
   },
   "file_extension": ".py",
   "mimetype": "text/x-python",
   "name": "python",
   "nbconvert_exporter": "python",
   "pygments_lexer": "ipython3",
   "version": "3.7.3"
  }
 },
 "nbformat": 4,
 "nbformat_minor": 2
}
